{
 "cells": [
  {
   "cell_type": "code",
   "execution_count": 4,
   "id": "145ec094-2166-4f19-a15a-d27f9152a757",
   "metadata": {},
   "outputs": [],
   "source": [
    "import pandas as pd\n",
    "import functions"
   ]
  },
  {
   "cell_type": "markdown",
   "id": "07f8afde-e9fa-4175-b9af-13ab2cd79044",
   "metadata": {},
   "source": [
    "## Checking one of the months"
   ]
  },
  {
   "cell_type": "code",
   "execution_count": 2,
   "id": "926b5943-5f3c-4cb1-878b-7b92ae482f82",
   "metadata": {},
   "outputs": [
    {
     "data": {
      "text/plain": [
       "(2019926, 13)"
      ]
     },
     "execution_count": 2,
     "metadata": {},
     "output_type": "execute_result"
    }
   ],
   "source": [
    "df0725 = pd.read_parquet(\"data/data-2025-07.parquet\")\n",
    "df0725.shape"
   ]
  },
  {
   "cell_type": "code",
   "execution_count": 3,
   "id": "373860bb-43ed-4246-bc57-7e68385a8a1f",
   "metadata": {},
   "outputs": [
    {
     "data": {
      "text/plain": [
       "Index(['station', 'train_name', 'final_destination_station', 'delay_in_min',\n",
       "       'time', 'is_canceled', 'train_type', 'train_line_ride_id',\n",
       "       'train_line_station_num', 'arrival_planned_time', 'arrival_change_time',\n",
       "       'departure_planned_time', 'departure_change_time'],\n",
       "      dtype='object')"
      ]
     },
     "execution_count": 3,
     "metadata": {},
     "output_type": "execute_result"
    }
   ],
   "source": [
    "df0725.columns"
   ]
  },
  {
   "cell_type": "code",
   "execution_count": 4,
   "id": "af768888-b769-4e82-be30-79cc11df09a7",
   "metadata": {},
   "outputs": [
    {
     "data": {
      "text/plain": [
       "<StringArray>\n",
       "[   'Aschaffenburg Hbf',         'Augsburg Hbf', 'Bietigheim-Bissingen',\n",
       "           'Bochum Hbf',             'Bonn Hbf',     'Braunschweig Hbf',\n",
       "           'Bremen Hbf',             'Bruchsal',   'Singen(Hohentwiel)',\n",
       "         'Dortmund Hbf',\n",
       " ...\n",
       "       'Oberhausen Hbf',        'Pforzheim Hbf',          'Cottbus Hbf',\n",
       "      'Frankfurt(Oder)',      'Halle(Saale)Hbf',         'Chemnitz Hbf',\n",
       "        'Magdeburg Hbf',          'Rostock Hbf',               'Weimar',\n",
       "          'Potsdam Hbf']\n",
       "Length: 107, dtype: string"
      ]
     },
     "execution_count": 4,
     "metadata": {},
     "output_type": "execute_result"
    }
   ],
   "source": [
    "df0725[\"station\"].unique()"
   ]
  },
  {
   "cell_type": "code",
   "execution_count": 5,
   "id": "a0fcab11-160d-4a91-9c15-8a11679090fa",
   "metadata": {},
   "outputs": [
    {
     "data": {
      "text/plain": [
       "count    2019926\n",
       "mean           4\n",
       "std           11\n",
       "min         -382\n",
       "25%            0\n",
       "50%            1\n",
       "75%            4\n",
       "max          498\n",
       "Name: delay_in_min, dtype: int64"
      ]
     },
     "execution_count": 5,
     "metadata": {},
     "output_type": "execute_result"
    }
   ],
   "source": [
    "df0725[\"delay_in_min\"].describe().astype(int)"
   ]
  },
  {
   "cell_type": "markdown",
   "id": "96c644b6-6576-4a87-acff-dc2cbe53c742",
   "metadata": {},
   "source": [
    "## Combined data"
   ]
  },
  {
   "cell_type": "code",
   "execution_count": 6,
   "id": "abe0cb15-0172-4714-a2ae-dd4553e1d1a8",
   "metadata": {
    "scrolled": true
   },
   "outputs": [
    {
     "data": {
      "text/plain": [
       "25369532"
      ]
     },
     "execution_count": 6,
     "metadata": {},
     "output_type": "execute_result"
    }
   ],
   "source": [
    "# Total rows in the 12 .parquet files\n",
    "1921655 + 2019926 + 1992064 + 1905957 + 1980788 + 1845194 + 2016880 + 2001243 + 1901651 + 1984484 + 1904404 + 1888035 + 2007251"
   ]
  },
  {
   "cell_type": "code",
   "execution_count": 7,
   "id": "4faf4c1f-aed9-49d9-b0be-99dde53b3576",
   "metadata": {
    "scrolled": true
   },
   "outputs": [
    {
     "data": {
      "text/plain": [
       "(25369532, 13)"
      ]
     },
     "execution_count": 7,
     "metadata": {},
     "output_type": "execute_result"
    }
   ],
   "source": [
    "combined = pd.read_csv(\"data/combineddata.csv\")\n",
    "combined.shape"
   ]
  },
  {
   "cell_type": "code",
   "execution_count": 8,
   "id": "af561afc-369d-4467-b00f-85cc38ba4969",
   "metadata": {},
   "outputs": [
    {
     "data": {
      "text/html": [
       "<div>\n",
       "<style scoped>\n",
       "    .dataframe tbody tr th:only-of-type {\n",
       "        vertical-align: middle;\n",
       "    }\n",
       "\n",
       "    .dataframe tbody tr th {\n",
       "        vertical-align: top;\n",
       "    }\n",
       "\n",
       "    .dataframe thead th {\n",
       "        text-align: right;\n",
       "    }\n",
       "</style>\n",
       "<table border=\"1\" class=\"dataframe\">\n",
       "  <thead>\n",
       "    <tr style=\"text-align: right;\">\n",
       "      <th></th>\n",
       "      <th>station</th>\n",
       "      <th>train_name</th>\n",
       "      <th>final_destination_station</th>\n",
       "      <th>delay_in_min</th>\n",
       "      <th>time</th>\n",
       "      <th>is_canceled</th>\n",
       "      <th>train_type</th>\n",
       "      <th>train_line_ride_id</th>\n",
       "      <th>train_line_station_num</th>\n",
       "      <th>arrival_planned_time</th>\n",
       "      <th>arrival_change_time</th>\n",
       "      <th>departure_planned_time</th>\n",
       "      <th>departure_change_time</th>\n",
       "    </tr>\n",
       "  </thead>\n",
       "  <tbody>\n",
       "    <tr>\n",
       "      <th>0</th>\n",
       "      <td>Bremen Hbf</td>\n",
       "      <td>Bus EV</td>\n",
       "      <td>Bremen-Farge</td>\n",
       "      <td>0</td>\n",
       "      <td>2024-07-01 00:06:00</td>\n",
       "      <td>False</td>\n",
       "      <td>Bus</td>\n",
       "      <td>1283015018331837456-2407010006</td>\n",
       "      <td>1</td>\n",
       "      <td>NaN</td>\n",
       "      <td>NaN</td>\n",
       "      <td>2024-07-01 00:06:00</td>\n",
       "      <td>2024-07-01 00:06:00</td>\n",
       "    </tr>\n",
       "    <tr>\n",
       "      <th>1</th>\n",
       "      <td>Bremen Hbf</td>\n",
       "      <td>Bus EV</td>\n",
       "      <td>Bremen Hbf</td>\n",
       "      <td>0</td>\n",
       "      <td>2024-07-01 00:54:00</td>\n",
       "      <td>False</td>\n",
       "      <td>Bus</td>\n",
       "      <td>4421136620182211111-2406302341</td>\n",
       "      <td>15</td>\n",
       "      <td>2024-07-01 00:54:00</td>\n",
       "      <td>2024-07-01 00:54:00</td>\n",
       "      <td>NaN</td>\n",
       "      <td>NaN</td>\n",
       "    </tr>\n",
       "    <tr>\n",
       "      <th>2</th>\n",
       "      <td>Bremen Hbf</td>\n",
       "      <td>Bus EV</td>\n",
       "      <td>Bremen Hbf</td>\n",
       "      <td>0</td>\n",
       "      <td>2024-07-01 00:31:00</td>\n",
       "      <td>False</td>\n",
       "      <td>Bus</td>\n",
       "      <td>-8223625181914547404-2406302332</td>\n",
       "      <td>8</td>\n",
       "      <td>2024-07-01 00:31:00</td>\n",
       "      <td>2024-07-01 00:31:00</td>\n",
       "      <td>NaN</td>\n",
       "      <td>NaN</td>\n",
       "    </tr>\n",
       "    <tr>\n",
       "      <th>3</th>\n",
       "      <td>Bremen Hbf</td>\n",
       "      <td>Bus EV</td>\n",
       "      <td>Bremen Hbf</td>\n",
       "      <td>0</td>\n",
       "      <td>2024-07-01 01:31:00</td>\n",
       "      <td>False</td>\n",
       "      <td>Bus</td>\n",
       "      <td>2481459597774498046-2407010032</td>\n",
       "      <td>8</td>\n",
       "      <td>2024-07-01 01:31:00</td>\n",
       "      <td>2024-07-01 01:31:00</td>\n",
       "      <td>NaN</td>\n",
       "      <td>NaN</td>\n",
       "    </tr>\n",
       "    <tr>\n",
       "      <th>4</th>\n",
       "      <td>Bremen Hbf</td>\n",
       "      <td>Bus EV</td>\n",
       "      <td>Bremen Hbf</td>\n",
       "      <td>0</td>\n",
       "      <td>2024-07-01 04:54:00</td>\n",
       "      <td>False</td>\n",
       "      <td>Bus</td>\n",
       "      <td>6895087918093973528-2407010341</td>\n",
       "      <td>15</td>\n",
       "      <td>2024-07-01 04:54:00</td>\n",
       "      <td>2024-07-01 04:54:00</td>\n",
       "      <td>NaN</td>\n",
       "      <td>NaN</td>\n",
       "    </tr>\n",
       "    <tr>\n",
       "      <th>...</th>\n",
       "      <td>...</td>\n",
       "      <td>...</td>\n",
       "      <td>...</td>\n",
       "      <td>...</td>\n",
       "      <td>...</td>\n",
       "      <td>...</td>\n",
       "      <td>...</td>\n",
       "      <td>...</td>\n",
       "      <td>...</td>\n",
       "      <td>...</td>\n",
       "      <td>...</td>\n",
       "      <td>...</td>\n",
       "      <td>...</td>\n",
       "    </tr>\n",
       "    <tr>\n",
       "      <th>25369527</th>\n",
       "      <td>Hamburg-Altona</td>\n",
       "      <td>S 1</td>\n",
       "      <td>Wedel(Holst)</td>\n",
       "      <td>0</td>\n",
       "      <td>2025-07-31 23:11:00</td>\n",
       "      <td>False</td>\n",
       "      <td>S</td>\n",
       "      <td>5823977036821936079-2507312228</td>\n",
       "      <td>20</td>\n",
       "      <td>2025-07-31 23:10:00</td>\n",
       "      <td>2025-07-31 23:10:00</td>\n",
       "      <td>2025-07-31 23:11:00</td>\n",
       "      <td>2025-07-31 23:11:00</td>\n",
       "    </tr>\n",
       "    <tr>\n",
       "      <th>25369528</th>\n",
       "      <td>Hamburg-Altona</td>\n",
       "      <td>S 1</td>\n",
       "      <td>Wedel(Holst)</td>\n",
       "      <td>3</td>\n",
       "      <td>2025-07-31 23:14:00</td>\n",
       "      <td>False</td>\n",
       "      <td>S</td>\n",
       "      <td>-2946950597323299448-2507312232</td>\n",
       "      <td>17</td>\n",
       "      <td>2025-07-31 23:10:00</td>\n",
       "      <td>2025-07-31 23:13:00</td>\n",
       "      <td>2025-07-31 23:11:00</td>\n",
       "      <td>2025-07-31 23:14:00</td>\n",
       "    </tr>\n",
       "    <tr>\n",
       "      <th>25369529</th>\n",
       "      <td>Hamburg-Altona</td>\n",
       "      <td>S 1</td>\n",
       "      <td>Wedel(Holst)</td>\n",
       "      <td>2</td>\n",
       "      <td>2025-07-31 23:53:00</td>\n",
       "      <td>False</td>\n",
       "      <td>S</td>\n",
       "      <td>-5726971871542223575-2507312308</td>\n",
       "      <td>20</td>\n",
       "      <td>2025-07-31 23:50:00</td>\n",
       "      <td>2025-07-31 23:52:00</td>\n",
       "      <td>2025-07-31 23:51:00</td>\n",
       "      <td>2025-07-31 23:53:00</td>\n",
       "    </tr>\n",
       "    <tr>\n",
       "      <th>25369530</th>\n",
       "      <td>Hamburg-Altona</td>\n",
       "      <td>S 3</td>\n",
       "      <td>Hamburg-Neugraben</td>\n",
       "      <td>21</td>\n",
       "      <td>2025-07-31 23:54:00</td>\n",
       "      <td>False</td>\n",
       "      <td>S</td>\n",
       "      <td>-3127323251828845261-2507312309</td>\n",
       "      <td>10</td>\n",
       "      <td>2025-07-31 23:32:00</td>\n",
       "      <td>2025-07-31 23:53:00</td>\n",
       "      <td>2025-07-31 23:33:00</td>\n",
       "      <td>2025-07-31 23:54:00</td>\n",
       "    </tr>\n",
       "    <tr>\n",
       "      <th>25369531</th>\n",
       "      <td>Mainz Hbf</td>\n",
       "      <td>RB 26</td>\n",
       "      <td>Bingen(Rhein) Hbf</td>\n",
       "      <td>-57</td>\n",
       "      <td>2025-07-31 23:13:00</td>\n",
       "      <td>False</td>\n",
       "      <td>RB</td>\n",
       "      <td>-4800519778142256146-2508010010</td>\n",
       "      <td>1</td>\n",
       "      <td>NaN</td>\n",
       "      <td>NaN</td>\n",
       "      <td>2025-08-01 00:10:00</td>\n",
       "      <td>2025-07-31 23:13:00</td>\n",
       "    </tr>\n",
       "  </tbody>\n",
       "</table>\n",
       "<p>25369532 rows × 13 columns</p>\n",
       "</div>"
      ],
      "text/plain": [
       "                 station train_name final_destination_station  delay_in_min  \\\n",
       "0             Bremen Hbf     Bus EV              Bremen-Farge             0   \n",
       "1             Bremen Hbf     Bus EV                Bremen Hbf             0   \n",
       "2             Bremen Hbf     Bus EV                Bremen Hbf             0   \n",
       "3             Bremen Hbf     Bus EV                Bremen Hbf             0   \n",
       "4             Bremen Hbf     Bus EV                Bremen Hbf             0   \n",
       "...                  ...        ...                       ...           ...   \n",
       "25369527  Hamburg-Altona        S 1              Wedel(Holst)             0   \n",
       "25369528  Hamburg-Altona        S 1              Wedel(Holst)             3   \n",
       "25369529  Hamburg-Altona        S 1              Wedel(Holst)             2   \n",
       "25369530  Hamburg-Altona        S 3         Hamburg-Neugraben            21   \n",
       "25369531       Mainz Hbf      RB 26         Bingen(Rhein) Hbf           -57   \n",
       "\n",
       "                         time  is_canceled train_type  \\\n",
       "0         2024-07-01 00:06:00        False        Bus   \n",
       "1         2024-07-01 00:54:00        False        Bus   \n",
       "2         2024-07-01 00:31:00        False        Bus   \n",
       "3         2024-07-01 01:31:00        False        Bus   \n",
       "4         2024-07-01 04:54:00        False        Bus   \n",
       "...                       ...          ...        ...   \n",
       "25369527  2025-07-31 23:11:00        False          S   \n",
       "25369528  2025-07-31 23:14:00        False          S   \n",
       "25369529  2025-07-31 23:53:00        False          S   \n",
       "25369530  2025-07-31 23:54:00        False          S   \n",
       "25369531  2025-07-31 23:13:00        False         RB   \n",
       "\n",
       "                       train_line_ride_id  train_line_station_num  \\\n",
       "0          1283015018331837456-2407010006                       1   \n",
       "1          4421136620182211111-2406302341                      15   \n",
       "2         -8223625181914547404-2406302332                       8   \n",
       "3          2481459597774498046-2407010032                       8   \n",
       "4          6895087918093973528-2407010341                      15   \n",
       "...                                   ...                     ...   \n",
       "25369527   5823977036821936079-2507312228                      20   \n",
       "25369528  -2946950597323299448-2507312232                      17   \n",
       "25369529  -5726971871542223575-2507312308                      20   \n",
       "25369530  -3127323251828845261-2507312309                      10   \n",
       "25369531  -4800519778142256146-2508010010                       1   \n",
       "\n",
       "         arrival_planned_time  arrival_change_time departure_planned_time  \\\n",
       "0                         NaN                  NaN    2024-07-01 00:06:00   \n",
       "1         2024-07-01 00:54:00  2024-07-01 00:54:00                    NaN   \n",
       "2         2024-07-01 00:31:00  2024-07-01 00:31:00                    NaN   \n",
       "3         2024-07-01 01:31:00  2024-07-01 01:31:00                    NaN   \n",
       "4         2024-07-01 04:54:00  2024-07-01 04:54:00                    NaN   \n",
       "...                       ...                  ...                    ...   \n",
       "25369527  2025-07-31 23:10:00  2025-07-31 23:10:00    2025-07-31 23:11:00   \n",
       "25369528  2025-07-31 23:10:00  2025-07-31 23:13:00    2025-07-31 23:11:00   \n",
       "25369529  2025-07-31 23:50:00  2025-07-31 23:52:00    2025-07-31 23:51:00   \n",
       "25369530  2025-07-31 23:32:00  2025-07-31 23:53:00    2025-07-31 23:33:00   \n",
       "25369531                  NaN                  NaN    2025-08-01 00:10:00   \n",
       "\n",
       "         departure_change_time  \n",
       "0          2024-07-01 00:06:00  \n",
       "1                          NaN  \n",
       "2                          NaN  \n",
       "3                          NaN  \n",
       "4                          NaN  \n",
       "...                        ...  \n",
       "25369527   2025-07-31 23:11:00  \n",
       "25369528   2025-07-31 23:14:00  \n",
       "25369529   2025-07-31 23:53:00  \n",
       "25369530   2025-07-31 23:54:00  \n",
       "25369531   2025-07-31 23:13:00  \n",
       "\n",
       "[25369532 rows x 13 columns]"
      ]
     },
     "execution_count": 8,
     "metadata": {},
     "output_type": "execute_result"
    }
   ],
   "source": [
    "combined"
   ]
  },
  {
   "cell_type": "markdown",
   "id": "fbe0bf99-c490-4564-9ed2-268290ad63e0",
   "metadata": {},
   "source": [
    "## Clean"
   ]
  },
  {
   "cell_type": "code",
   "execution_count": 11,
   "id": "0c942f6a-a32e-4d03-b633-d6dd9d9db527",
   "metadata": {},
   "outputs": [],
   "source": [
    "df = pd.read_csv(\"data/combineddata.csv\")\n",
    "df = functions.filter(df)\n",
    "df = functions.clean(df)\n",
    "df = functions.group_west_east(df)\n",
    "df = functions.group_dates_seasons(df)\n",
    "df = functions.group_puctuality(df)\n",
    "df_categorical, df_numerical = functions.separate_cat_num(df)"
   ]
  },
  {
   "cell_type": "markdown",
   "id": "35a56028-9302-4624-b175-b1fae456932a",
   "metadata": {},
   "source": [
    "Keeping the following trains that operate only within Germany and operated by Deustche Bahn:\n",
    "- ICE: InterCityExpress\n",
    "- IC: InterCity\n",
    "- RE: Regional-Express\n",
    "- RB: Regionalbahn\n",
    "- IRE: Interregio-Express"
   ]
  },
  {
   "cell_type": "code",
   "execution_count": 12,
   "id": "6d42bd73-6f82-4223-9f1e-baffc2f5cba7",
   "metadata": {
    "scrolled": true
   },
   "outputs": [
    {
     "data": {
      "text/plain": [
       "array(['RE', 'RB', 'S', 'ICE', 'IC', 'IRE'], dtype=object)"
      ]
     },
     "execution_count": 12,
     "metadata": {},
     "output_type": "execute_result"
    }
   ],
   "source": [
    "df[\"train_type\"].unique()"
   ]
  },
  {
   "cell_type": "code",
   "execution_count": 19,
   "id": "21c291ba-17a1-4278-ac92-22c200270fff",
   "metadata": {},
   "outputs": [
    {
     "data": {
      "text/plain": [
       "array(['Aachen Hbf', 'Aschaffenburg Hbf', 'Augsburg Hbf', 'Bad Oldesloe',\n",
       "       'Bamberg', 'Bielefeld Hbf', 'Bietigheim-Bissingen', 'Bochum Hbf',\n",
       "       'Bonn Hbf', 'Braunschweig Hbf', 'Bremen Hbf', 'Bruchsal',\n",
       "       'Darmstadt Hbf', 'Singen(Hohentwiel)', 'Dortmund Hbf',\n",
       "       'Düsseldorf Flughafen', 'Düsseldorf Hbf', 'Duisburg Hbf',\n",
       "       'Solingen Hbf', 'Stuttgart Hbf', 'Essen Hbf', 'Frankfurt(Main)Hbf',\n",
       "       'Freiburg(Breisgau) Hbf', 'Fürth(Bay)Hbf', 'Fulda',\n",
       "       'Gelsenkirchen Hbf', 'Gießen', 'Göttingen', 'Trier Hbf',\n",
       "       'Tübingen Hbf', 'Hagen Hbf', 'Hamburg-Harburg', 'Hamm(Westf)Hbf',\n",
       "       'Hanau Hbf', 'Hannover Hbf', 'Heidelberg Hbf', 'Heilbronn Hbf',\n",
       "       'Herford', 'Uelzen', 'Hildesheim Hbf', 'Ulm Hbf', 'Ingolstadt Hbf',\n",
       "       'Kaiserslautern Hbf', 'Karlsruhe Hbf', 'Kassel Hbf', 'Kiel Hbf',\n",
       "       'Koblenz Hbf', 'Köln Hbf', 'Landshut(Bay)Hbf',\n",
       "       'Ludwigshafen(Rh)Hbf', 'Lübeck Hbf', 'Lüneburg', 'Mainz Hbf',\n",
       "       'Mannheim Hbf', 'Wiesbaden Hbf', 'Mönchengladbach Hbf',\n",
       "       'Worms Hbf', 'Würzburg Hbf', 'München Hbf', 'München Ost',\n",
       "       'Münster(Westf)Hbf', 'Wuppertal Hbf', 'Neumünster', 'Neuss Hbf',\n",
       "       'Neustadt(Weinstr)Hbf', 'Nürnberg Hbf', 'Oberhausen Hbf',\n",
       "       'Offenburg', 'Oldenburg(Oldb)Hbf', 'Osnabrück Hbf',\n",
       "       'Paderborn Hbf', 'Pforzheim Hbf', 'Plochingen', 'Regensburg Hbf',\n",
       "       'Rheine', 'Rosenheim', 'Saarbrücken Hbf',\n",
       "       'Düsseldorf Flughafen Terminal', 'Frankfurt(Main)Süd',\n",
       "       'Hamburg Dammtor', 'Hamburg Hbf', 'Hamburg-Altona',\n",
       "       'Kassel-Wilhelmshöhe', 'Köln Messe/Deutz', 'München-Pasing',\n",
       "       'Wolfsburg Hbf', 'Berlin-Lichtenberg', 'Cottbus Hbf',\n",
       "       'Dresden Hbf', 'Dresden-Neustadt', 'Erfurt Hbf', 'Frankfurt(Oder)',\n",
       "       'Halle(Saale)Hbf', 'Chemnitz Hbf', 'Leipzig Hbf', 'Magdeburg Hbf',\n",
       "       'Berlin Ostbahnhof', 'Rostock Hbf', 'Berlin-Spandau',\n",
       "       'Berlin-Wannsee', 'Berlin Zoologischer Garten',\n",
       "       'Berlin Gesundbrunnen', 'Berlin Südkreuz',\n",
       "       'Berlin Potsdamer Platz', 'Berlin Hbf', 'Flughafen BER',\n",
       "       'Berlin Friedrichstraße', 'Potsdam Hbf', 'Weimar',\n",
       "       'Berlin Ostkreuz'], dtype=object)"
      ]
     },
     "execution_count": 19,
     "metadata": {},
     "output_type": "execute_result"
    }
   ],
   "source": [
    "df[\"station\"].unique()"
   ]
  },
  {
   "cell_type": "code",
   "execution_count": 20,
   "id": "86277385-d8d8-40e6-896b-d91fc3562ad0",
   "metadata": {},
   "outputs": [
    {
     "data": {
      "text/plain": [
       "station                      False\n",
       "train_name                   False\n",
       "final_destination_station    False\n",
       "delay_in_min                 False\n",
       "time                         False\n",
       "is_canceled                  False\n",
       "train_type                   False\n",
       "train_line_ride_id           False\n",
       "former                       False\n",
       "year                         False\n",
       "month                        False\n",
       "day                          False\n",
       "season                       False\n",
       "dtype: bool"
      ]
     },
     "execution_count": 20,
     "metadata": {},
     "output_type": "execute_result"
    }
   ],
   "source": [
    "df.isna().any()"
   ]
  },
  {
   "cell_type": "code",
   "execution_count": 21,
   "id": "514c1dd9-3227-41cb-9a73-53de255510a4",
   "metadata": {},
   "outputs": [
    {
     "data": {
      "text/plain": [
       "station                      0\n",
       "train_name                   0\n",
       "final_destination_station    0\n",
       "delay_in_min                 0\n",
       "time                         0\n",
       "is_canceled                  0\n",
       "train_type                   0\n",
       "train_line_ride_id           0\n",
       "former                       0\n",
       "year                         0\n",
       "month                        0\n",
       "day                          0\n",
       "season                       0\n",
       "dtype: int64"
      ]
     },
     "execution_count": 21,
     "metadata": {},
     "output_type": "execute_result"
    }
   ],
   "source": [
    "df.isna().sum()"
   ]
  },
  {
   "cell_type": "code",
   "execution_count": 22,
   "id": "6383749e-1b41-4bc6-ab42-b5631d94bbdf",
   "metadata": {},
   "outputs": [
    {
     "data": {
      "text/plain": [
       "0"
      ]
     },
     "execution_count": 22,
     "metadata": {},
     "output_type": "execute_result"
    }
   ],
   "source": [
    "df.duplicated().sum()"
   ]
  },
  {
   "cell_type": "code",
   "execution_count": 23,
   "id": "e38d3c70-fff8-4a29-af70-0240f6ca46db",
   "metadata": {},
   "outputs": [
    {
     "data": {
      "text/plain": [
       "False"
      ]
     },
     "execution_count": 23,
     "metadata": {},
     "output_type": "execute_result"
    }
   ],
   "source": [
    "df.duplicated().any()"
   ]
  }
 ],
 "metadata": {
  "kernelspec": {
   "display_name": "Python [conda env:base] *",
   "language": "python",
   "name": "conda-base-py"
  },
  "language_info": {
   "codemirror_mode": {
    "name": "ipython",
    "version": 3
   },
   "file_extension": ".py",
   "mimetype": "text/x-python",
   "name": "python",
   "nbconvert_exporter": "python",
   "pygments_lexer": "ipython3",
   "version": "3.12.7"
  }
 },
 "nbformat": 4,
 "nbformat_minor": 5
}
