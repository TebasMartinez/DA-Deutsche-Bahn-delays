{
 "cells": [
  {
   "cell_type": "code",
   "execution_count": null,
   "id": "82ed9d99-0dfa-453f-8d8b-d2d3c534f912",
   "metadata": {},
   "outputs": [],
   "source": []
  }
 ],
 "metadata": {
  "kernelspec": {
   "display_name": "",
   "name": ""
  },
  "language_info": {
   "name": ""
  }
 },
 "nbformat": 4,
 "nbformat_minor": 5
}
